{
 "cells": [
  {
   "cell_type": "code",
   "execution_count": 1,
   "id": "8dc01fe9",
   "metadata": {},
   "outputs": [],
   "source": [
    "import pandas as pd\n",
    "import json\n",
    "import glob\n",
    "import os"
   ]
  },
  {
   "cell_type": "code",
   "execution_count": 2,
   "id": "acd99aeb",
   "metadata": {},
   "outputs": [],
   "source": [
    "all_json = glob.glob(r\"C:\\Users\\Robert\\Desktop\\Data\\*.json\")"
   ]
  },
  {
   "cell_type": "code",
   "execution_count": 4,
   "id": "7b7f5094",
   "metadata": {},
   "outputs": [
    {
     "data": {
      "text/plain": [
       "['C:\\\\Users\\\\Robert\\\\Desktop\\\\Data\\\\Cybersport.Metaratings.json',\n",
       " 'C:\\\\Users\\\\Robert\\\\Desktop\\\\Data\\\\ESforce Holding.json',\n",
       " 'C:\\\\Users\\\\Robert\\\\Desktop\\\\Data\\\\Gett.json',\n",
       " 'C:\\\\Users\\\\Robert\\\\Desktop\\\\Data\\\\Goose Gaming.json',\n",
       " 'C:\\\\Users\\\\Robert\\\\Desktop\\\\Data\\\\MMA.Metaratings.json',\n",
       " 'C:\\\\Users\\\\Robert\\\\Desktop\\\\Data\\\\skillbox.json',\n",
       " 'C:\\\\Users\\\\Robert\\\\Desktop\\\\Data\\\\Vinci Agency.json',\n",
       " 'C:\\\\Users\\\\Robert\\\\Desktop\\\\Data\\\\Гэллэри Сервис.json',\n",
       " 'C:\\\\Users\\\\Robert\\\\Desktop\\\\Data\\\\Здоровье.ру.json',\n",
       " 'C:\\\\Users\\\\Robert\\\\Desktop\\\\Data\\\\Иннотех.json',\n",
       " 'C:\\\\Users\\\\Robert\\\\Desktop\\\\Data\\\\Проект по использованию технологий компьютерного зрения на базе искусственного интеллекта для анализа медицинских изображений.json',\n",
       " 'C:\\\\Users\\\\Robert\\\\Desktop\\\\Data\\\\Промобот.json',\n",
       " 'C:\\\\Users\\\\Robert\\\\Desktop\\\\Data\\\\Студия Артемия Лебедева.json',\n",
       " 'C:\\\\Users\\\\Robert\\\\Desktop\\\\Data\\\\Федерация креативных индустрий.json']"
      ]
     },
     "execution_count": 4,
     "metadata": {},
     "output_type": "execute_result"
    }
   ],
   "source": [
    "all_json"
   ]
  },
  {
   "cell_type": "code",
   "execution_count": 7,
   "id": "ebb7c058",
   "metadata": {},
   "outputs": [],
   "source": [
    "rows = []\n",
    "\n",
    "for file_path in all_json:\n",
    "    with open(file_path, 'r', encoding='utf-8') as file:\n",
    "        data = json.load(file)\n",
    "    \n",
    "    refs = data.get('refs', [])  \n",
    "    \n",
    "    for ref in refs:\n",
    "        if ref is not None and isinstance(ref, list):\n",
    "            content = ref[0]  \n",
    "            date_info = ref[1]  \n",
    "            stats = ref[2]          \n",
    "            date_str = f\"{date_info.get('day')} {date_info.get('month')} {date_info.get('time')}\"\n",
    "            \n",
    "            rows.append({\n",
    "                'content': content,\n",
    "                'date': date_str.strip(),  \n",
    "                'rate': stats.get('rate', None),\n",
    "                'views': stats.get('views', None),\n",
    "                'name_file': file_path.split(\"\\\\\")[-1] })"
   ]
  },
  {
   "cell_type": "code",
   "execution_count": 9,
   "id": "08ea744f",
   "metadata": {},
   "outputs": [],
   "source": [
    "df = pd.DataFrame(rows)"
   ]
  },
  {
   "cell_type": "code",
   "execution_count": 11,
   "id": "90963b7e",
   "metadata": {},
   "outputs": [],
   "source": [
    "df.to_csv('json-convert.csv', index=False)"
   ]
  },
  {
   "cell_type": "code",
   "execution_count": 12,
   "id": "fe0ec22c",
   "metadata": {},
   "outputs": [
    {
     "data": {
      "text/html": [
       "<div>\n",
       "<style scoped>\n",
       "    .dataframe tbody tr th:only-of-type {\n",
       "        vertical-align: middle;\n",
       "    }\n",
       "\n",
       "    .dataframe tbody tr th {\n",
       "        vertical-align: top;\n",
       "    }\n",
       "\n",
       "    .dataframe thead th {\n",
       "        text-align: right;\n",
       "    }\n",
       "</style>\n",
       "<table border=\"1\" class=\"dataframe\">\n",
       "  <thead>\n",
       "    <tr style=\"text-align: right;\">\n",
       "      <th></th>\n",
       "      <th>content</th>\n",
       "      <th>date</th>\n",
       "      <th>rate</th>\n",
       "      <th>views</th>\n",
       "      <th>name_file</th>\n",
       "    </tr>\n",
       "  </thead>\n",
       "  <tbody>\n",
       "    <tr>\n",
       "      <th>0</th>\n",
       "      <td>7 декабря состоялась церемония награждения лау...</td>\n",
       "      <td>8 декабря 09:30</td>\n",
       "      <td>6</td>\n",
       "      <td>2300</td>\n",
       "      <td>Cybersport.Metaratings.json</td>\n",
       "    </tr>\n",
       "    <tr>\n",
       "      <th>1</th>\n",
       "      <td>7 декабря состоялась церемония награждения лау...</td>\n",
       "      <td>8 декабря 09:30</td>\n",
       "      <td>6</td>\n",
       "      <td>2300</td>\n",
       "      <td>ESforce Holding.json</td>\n",
       "    </tr>\n",
       "    <tr>\n",
       "      <th>2</th>\n",
       "      <td>Из совместного исследования издателя компьютер...</td>\n",
       "      <td>29 июля 13:50</td>\n",
       "      <td>12</td>\n",
       "      <td>2800</td>\n",
       "      <td>ESforce Holding.json</td>\n",
       "    </tr>\n",
       "    <tr>\n",
       "      <th>3</th>\n",
       "      <td>По статистике The Esports Observer за I полови...</td>\n",
       "      <td>9 июля 09:33</td>\n",
       "      <td>18</td>\n",
       "      <td>6200</td>\n",
       "      <td>ESforce Holding.json</td>\n",
       "    </tr>\n",
       "    <tr>\n",
       "      <th>4</th>\n",
       "      <td>Компании SuperData Research и PayPal провели с...</td>\n",
       "      <td>11 апреля 12:43</td>\n",
       "      <td>11</td>\n",
       "      <td>10000</td>\n",
       "      <td>ESforce Holding.json</td>\n",
       "    </tr>\n",
       "  </tbody>\n",
       "</table>\n",
       "</div>"
      ],
      "text/plain": [
       "                                             content             date  rate  \\\n",
       "0  7 декабря состоялась церемония награждения лау...  8 декабря 09:30     6   \n",
       "1  7 декабря состоялась церемония награждения лау...  8 декабря 09:30     6   \n",
       "2  Из совместного исследования издателя компьютер...    29 июля 13:50    12   \n",
       "3  По статистике The Esports Observer за I полови...     9 июля 09:33    18   \n",
       "4  Компании SuperData Research и PayPal провели с...  11 апреля 12:43    11   \n",
       "\n",
       "   views                    name_file  \n",
       "0   2300  Cybersport.Metaratings.json  \n",
       "1   2300         ESforce Holding.json  \n",
       "2   2800         ESforce Holding.json  \n",
       "3   6200         ESforce Holding.json  \n",
       "4  10000         ESforce Holding.json  "
      ]
     },
     "execution_count": 12,
     "metadata": {},
     "output_type": "execute_result"
    }
   ],
   "source": [
    "df = pd.read_csv(\"json-convert.csv\")\n",
    "df.head()"
   ]
  },
  {
   "cell_type": "code",
   "execution_count": 14,
   "id": "46c9296f",
   "metadata": {},
   "outputs": [
    {
     "name": "stdout",
     "output_type": "stream",
     "text": [
      "<class 'pandas.core.frame.DataFrame'>\n",
      "RangeIndex: 1112 entries, 0 to 1111\n",
      "Data columns (total 5 columns):\n",
      " #   Column     Non-Null Count  Dtype \n",
      "---  ------     --------------  ----- \n",
      " 0   content    1112 non-null   object\n",
      " 1   date       1112 non-null   object\n",
      " 2   rate       1112 non-null   int64 \n",
      " 3   views      1112 non-null   int64 \n",
      " 4   name_file  1112 non-null   object\n",
      "dtypes: int64(2), object(3)\n",
      "memory usage: 43.6+ KB\n"
     ]
    }
   ],
   "source": [
    "df.info()"
   ]
  },
  {
   "cell_type": "code",
   "execution_count": 20,
   "id": "e8d329b6",
   "metadata": {},
   "outputs": [
    {
     "data": {
      "text/plain": [
       "(1112, 5)"
      ]
     },
     "execution_count": 20,
     "metadata": {},
     "output_type": "execute_result"
    }
   ],
   "source": [
    "df.shape"
   ]
  },
  {
   "cell_type": "code",
   "execution_count": null,
   "id": "2a3db67c-9b50-43a5-aed8-fcd16e92be92",
   "metadata": {},
   "outputs": [],
   "source": []
  }
 ],
 "metadata": {
  "kernelspec": {
   "display_name": "Python [conda env:base] *",
   "language": "python",
   "name": "conda-base-py"
  },
  "language_info": {
   "codemirror_mode": {
    "name": "ipython",
    "version": 3
   },
   "file_extension": ".py",
   "mimetype": "text/x-python",
   "name": "python",
   "nbconvert_exporter": "python",
   "pygments_lexer": "ipython3",
   "version": "3.11.5"
  }
 },
 "nbformat": 4,
 "nbformat_minor": 5
}
